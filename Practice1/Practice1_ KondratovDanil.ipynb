{
 "cells": [
  {
   "cell_type": "markdown",
   "id": "e359921f",
   "metadata": {},
   "source": [
    "# Практическая работа №1\n",
    "## Тема: «Основные возможности языка Python»\n",
    "### Выполнил студент: Кондратов Данил\n",
    "### Вариант: 13\n",
    "#### Задание 1. Расчеты арифметических выражений\n",
    "#### $$ z = 2y + \\left(2 \\cdot \\frac{3a}{10x - 3a}\\right) + 2d $$\n"
   ]
  },
  {
   "cell_type": "markdown",
   "id": "4ba25ac0",
   "metadata": {},
   "source": []
  },
  {
   "cell_type": "code",
   "execution_count": null,
   "id": "ef6bd955",
   "metadata": {},
   "outputs": [],
   "source": [
    "y = float(input(\"Введите значение переменной y: \"))\n",
    "a = float(input(\"Введите значение переменной a: \"))\n",
    "x = float(input(\"Введите значение переменной x: \"))\n",
    "d = float(input(\"Введите значение переменной d: \"))\n",
    "z = 2 * y + (2 * 3 * a / (10 * x - 3 * a)) + 2 * d\n",
    "print(\"Результат выражения z =\", z)\n"
   ]
  },
  {
   "cell_type": "markdown",
   "id": "dc2ad0dd",
   "metadata": {},
   "source": [
    "### Задание 2. Расчеты математических выражений\n",
    "### $$z = \\cos^2(\\sin(1/x)) + y^x$$"
   ]
  },
  {
   "cell_type": "code",
   "execution_count": 2,
   "id": "1c1504e1",
   "metadata": {},
   "outputs": [
    {
     "name": "stdout",
     "output_type": "stream",
     "text": [
      "Введите значение переменной x: 2\n",
      "Введите значение переменной y: 3\n",
      "Результат выражения z = 9.787230397599492\n"
     ]
    }
   ],
   "source": [
    "import math\n",
    "x = float(input(\"Введите значение переменной x: \"))\n",
    "y = float(input(\"Введите значение переменной y: \"))\n",
    "z = math.cos(math.sin(1/x))**2 + y**x\n",
    "print(\"Результат выражения z =\", z)"
   ]
  },
  {
   "cell_type": "markdown",
   "id": "d73a7d27",
   "metadata": {},
   "source": [
    "### Задание 3. Логические вычисления \n"
   ]
  },
  {
   "cell_type": "code",
   "execution_count": 5,
   "id": "57fba01a",
   "metadata": {},
   "outputs": [
    {
     "data": {
      "image/png": "[encoded data removed]",
      "text/plain": [
       "<IPython.core.display.Image object>"
      ]
     },
     "metadata": {},
     "output_type": "display_data"
    }
   ],
   "source": [
    "from IPython.display import display, Image\n",
    "\n",
    "display(Image(filename='C:/Users/Данил/OneDrive/Desktop/Рисунок3.png'))\n"
   ]
  },
  {
   "cell_type": "code",
   "execution_count": 7,
   "id": "218d1ffd",
   "metadata": {},
   "outputs": [
    {
     "name": "stdout",
     "output_type": "stream",
     "text": [
      "Введите x:3\n",
      "Введите y:3\n",
      "Находится\n"
     ]
    }
   ],
   "source": [
    "x = float(input('Введите x:'))\n",
    "y = float(input('Введите y:'))\n",
    "if x>=3 and x<=5 and y>=3 and y<=7:\n",
    "    print('Находится')\n",
    "elif x>=3 and x<=7 and y==11:\n",
    "    print('Находится')\n",
    "elif x==7 and y ==12:\n",
    "    print('Находится')\n",
    "elif x>=6 and x<=7 and y>=5 and y <=11:\n",
    "    print('Находится')\n",
    "elif x==8 and y>=5 and y<=10:\n",
    "    print('Находится')\n",
    "elif x>=9 and x<=12 and y>=9 and y<=10:\n",
    "    print('Находится')\n",
    "elif x>= 11 and x<=12 and y>=11 and y<=12:\n",
    "    print('Находится')\n",
    "elif x>=9 and x<=12 and y>=3 and y<=6:\n",
    "    print('Находится')\n",
    "elif x==13 and y==6:\n",
    "    print('Находится')\n",
    "else:\n",
    "    print('Не находится')"
   ]
  },
  {
   "cell_type": "markdown",
   "id": "6444eb8b",
   "metadata": {},
   "source": [
    "### Задание 4. Логические вычисления \n"
   ]
  },
  {
   "cell_type": "code",
   "execution_count": 10,
   "id": "a3f1536a",
   "metadata": {},
   "outputs": [
    {
     "data": {
      "image/png": "[encoded data removed]",
      "text/plain": [
       "<IPython.core.display.Image object>"
      ]
     },
     "metadata": {},
     "output_type": "display_data"
    }
   ],
   "source": [
    "from IPython.display import display, Image\n",
    "\n",
    "display(Image(filename='C:/Users/Данил/OneDrive/Desktop/Рисунок5.png'))"
   ]
  },
  {
   "cell_type": "code",
   "execution_count": 1,
   "id": "8bde232a",
   "metadata": {},
   "outputs": [
    {
     "name": "stdout",
     "output_type": "stream",
     "text": [
      "Введите значение переменной x: 1\n",
      "Введите значение переменной y: 1\n",
      "Нет\n"
     ]
    }
   ],
   "source": [
    "x = float(input(\"Введите значение переменной x: \"))\n",
    "y = float(input(\"Введите значение переменной y: \"))\n",
    "if y<=1 and y>=x-1 and x**2+y**2<=1:\n",
    "    print('Да')\n",
    "else:\n",
    "    print('Нет')"
   ]
  },
  {
   "cell_type": "markdown",
   "id": "ee9ba92e",
   "metadata": {},
   "source": [
    "### Задание 5. Вычисление циклических процессов\n",
    "$$f(x) = \\cos(x) + \\left(\\frac{x+1}{x-1}\\right)^x + 18x^2$$"
   ]
  },
  {
   "cell_type": "code",
   "execution_count": 2,
   "id": "571c75fb",
   "metadata": {},
   "outputs": [
    {
     "name": "stdout",
     "output_type": "stream",
     "text": [
      "Введите значение X1:5\n",
      "Введите значение X2:10\n",
      "Введите значение S:1\n",
      "**************************************************\n",
      "Результат:\n",
      "+-------------------+\n",
      "|    X    |    F(X) |\n",
      "+-------------------+\n",
      "| 5.00|    457.88|\n",
      "| 6.00|    656.49|\n",
      "| 7.00|    890.25|\n",
      "| 8.00|   1159.32|\n",
      "| 9.00|   1464.54|\n",
      "|10.00|   1806.60|\n",
      "+-------------------+\n",
      "**************************************************\n"
     ]
    }
   ],
   "source": [
    "import math as m\n",
    "import matplotlib.pyplot as plt\n",
    "y = []\n",
    "x = []\n",
    "X1 = int(input('Введите значение X1:'))\n",
    "X2 = int(input('Введите значение X2:'))\n",
    "S = int(input('Введите значение S:'))\n",
    "print('**************************************************')\n",
    "print('Результат:')\n",
    "print('+-------------------+')\n",
    "print('|    X    |    F(X) |')\n",
    "print('+-------------------+')\n",
    "import math\n",
    "while(X1<=X2):\n",
    "    Y = math.cos(X1) + ((X1 + 1) / (X1 - 1))**X1 + 18 * X1**2\n",
    "    y.append(Y)\n",
    "    x.append(X1)\n",
    "    print('|{:5.2f}|{:10.2f}|'.format(X1,Y))\n",
    "    X1 = X1 + S\n",
    "print('+-------------------+')\n",
    "print('**************************************************')\n"
   ]
  },
  {
   "cell_type": "markdown",
   "id": "a6c1bcf7",
   "metadata": {},
   "source": [
    "### Задание 6. Списки (одномерные массивы) в Python \n"
   ]
  },
  {
   "cell_type": "code",
   "execution_count": 4,
   "id": "0fa78cd6",
   "metadata": {},
   "outputs": [
    {
     "name": "stdout",
     "output_type": "stream",
     "text": [
      "Введите размер массива: 10\n",
      "**************************************************\n",
      "Введите начальное значение диапазона: 5\n",
      "**************************************************\n",
      "Введите конечное значение диапазона: 15\n",
      "**************************************************\n",
      "Количество элементов в массиве: 10\n",
      "**************************************************\n",
      "Сгенерированный массив:\n",
      "**************************************************\n",
      "8\n",
      "9\n",
      "12\n",
      "14\n",
      "12\n",
      "7\n",
      "8\n",
      "8\n",
      "7\n",
      "6\n",
      "**************************************************\n",
      "Введите значение K: 4\n",
      "**************************************************\n",
      "Введите значение L: 6\n",
      "**************************************************\n",
      "Сумма значений из элементов с четными номерами от K до L включительно:\n",
      "**************************************************\n",
      "12\n",
      "8\n",
      "**************************************************\n",
      "Сумма значений: 20\n",
      "**************************************************\n",
      "Сумма отрицательных элементов массива: 0\n",
      "**************************************************\n"
     ]
    }
   ],
   "source": [
    "import random\n",
    "def generate_array(N, n1, n2):\n",
    "    array = [random.randint(n1, n2) for _ in range(N)]  \n",
    "    return array\n",
    "\n",
    "def sum_even_elements(array, K, L):\n",
    "\n",
    "    if K < 0 or L < K or L >= len(array):\n",
    "        print(\"Ошибка: некорректные значения K и L\")\n",
    "        return None\n",
    "    \n",
    "  \n",
    "    sum_even = 0\n",
    "    for i in range(K, L + 1):\n",
    "        if i % 2 == 0:\n",
    "            sum_even += array[i]\n",
    "    return sum_even\n",
    "\n",
    "N = int(input(\"Введите размер массива: \"))\n",
    "print('**************************************************')\n",
    "n1 = int(input(\"Введите начальное значение диапазона: \"))\n",
    "print('**************************************************')\n",
    "n2 = int(input(\"Введите конечное значение диапазона: \"))\n",
    "print('**************************************************')\n",
    "\n",
    "if n1 > n2:\n",
    "    print(\"Ошибка: начальное значение диапазона должно быть меньше конечного\")\n",
    "else:\n",
    "    array = generate_array(N, n1, n2)\n",
    "    print(\"Количество элементов в массиве:\", len(array))\n",
    "    print('**************************************************')\n",
    "    print(\"Сгенерированный массив:\")\n",
    "    print('**************************************************')\n",
    "    for num in array:\n",
    "        print(num)\n",
    "\n",
    "    print('**************************************************')\n",
    "    K = int(input(\"Введите значение K: \"))\n",
    "    print('**************************************************')\n",
    "    L = int(input(\"Введите значение L: \"))\n",
    "    print('**************************************************')\n",
    "    \n",
    "    result = sum_even_elements(array, K, L)\n",
    "    if result is not None:\n",
    "        print(\"Сумма значений из элементов с четными номерами от K до L включительно:\")\n",
    "        print('**************************************************')\n",
    "        for i in range(K, L + 1):\n",
    "            if i % 2 == 0:\n",
    "                print(array[i])\n",
    "                \n",
    "        print('**************************************************')\n",
    "        print(\"Сумма значений:\", result) \n",
    "        print('**************************************************')\n",
    "\n",
    "    print(\"Сумма отрицательных элементов массива:\", sum(x for x in array if x < 0))\n",
    "    print('**************************************************')"
   ]
  },
  {
   "cell_type": "markdown",
   "id": "fbd3a0b6",
   "metadata": {},
   "source": [
    "### Задание 7. Двумерные массивы (матрицы) в Python"
   ]
  },
  {
   "cell_type": "code",
   "execution_count": 7,
   "id": "732dd90d",
   "metadata": {},
   "outputs": [
    {
     "name": "stdout",
     "output_type": "stream",
     "text": [
      "Введите количество строк: 10\n",
      "**************************************************\n",
      "Введите количество столбцов: 10\n",
      "**************************************************\n",
      "Введите нижнюю границу диапазона: 5\n",
      "**************************************************\n",
      "Введите верхнюю границу диапазона: 6\n",
      "**************************************************\n",
      "Введите нижнюю границу диапазона для суммы: 7\n",
      "**************************************************\n",
      "Введите верхнюю границу диапазона для суммы: 8\n",
      "**************************************************\n",
      "Введите номер столбца для вычисления суммы: 9\n",
      "**************************************************\n",
      "Сумма значений в столбце C с чётными номерами от 7 до 8 включительно: 6\n",
      "**************************************************\n"
     ]
    }
   ],
   "source": [
    "import random\n",
    "\n",
    "def generate_array(n, m, n1, n2):\n",
    "    array = []\n",
    "    for i in range(n):\n",
    "        row = []\n",
    "        for j in range(m):\n",
    "            if j < 3:\n",
    "                row.append(random.randint(n1, n2))\n",
    "            else:\n",
    "                diff = row[j-1] - row[j-2] + row[j-3]\n",
    "                new_value = row[j-1] + diff\n",
    "                if new_value > n2:\n",
    "                    new_value = n2\n",
    "                elif new_value < n1:\n",
    "                    new_value = n1\n",
    "                row.append(new_value)\n",
    "        array.append(row)\n",
    "    return array\n",
    "def calculate_sum(array, K, L, C):\n",
    "    total_sum = 0\n",
    "    for i in range(K-1, L, 2):\n",
    "        if 0 <= i < len(array):\n",
    "            total_sum += array[i][C-1]\n",
    "    return total_sum\n",
    "def main():\n",
    "    n = int(input(\"Введите количество строк: \"))\n",
    "    print('**************************************************')\n",
    "    m = int(input(\"Введите количество столбцов: \"))\n",
    "    print('**************************************************')\n",
    "    n1 = int(input(\"Введите нижнюю границу диапазона: \"))\n",
    "    print('**************************************************')\n",
    "    n2 = int(input(\"Введите верхнюю границу диапазона: \"))\n",
    "    print('**************************************************')\n",
    "    K = int(input(\"Введите нижнюю границу диапазона для суммы: \"))\n",
    "    print('**************************************************')\n",
    "    L = int(input(\"Введите верхнюю границу диапазона для суммы: \"))\n",
    "    print('**************************************************')\n",
    "    C = int(input(\"Введите номер столбца для вычисления суммы: \"))\n",
    "    print('**************************************************')\n",
    "\n",
    "    if n1 >= n2 or K >= L or C > m or n < 1 or m < 1:\n",
    "        print(\"Ошибка ввода значений.\")\n",
    "        return\n",
    "\n",
    "    array = generate_array(n, m, n1, n2)\n",
    "    total_sum = calculate_sum(array, K, L, C)\n",
    "    print(\"Сумма значений в столбце C с чётными номерами от\", K, \"до\", L, \"включительно:\", total_sum)\n",
    "    print('**************************************************')\n",
    "\n",
    "if __name__ == \"__main__\":\n",
    "    main()"
   ]
  },
  {
   "cell_type": "code",
   "execution_count": null,
   "id": "ac4519cb",
   "metadata": {},
   "outputs": [],
   "source": []
  }
 ],
 "metadata": {
  "kernelspec": {
   "display_name": "Python 3 (ipykernel)",
   "language": "python",
   "name": "python3"
  },
  "language_info": {
   "codemirror_mode": {
    "name": "ipython",
    "version": 3
   },
   "file_extension": ".py",
   "mimetype": "text/x-python",
   "name": "python",
   "nbconvert_exporter": "python",
   "pygments_lexer": "ipython3",
   "version": "3.10.11"
  }
 },
 "nbformat": 4,
 "nbformat_minor": 5
}
